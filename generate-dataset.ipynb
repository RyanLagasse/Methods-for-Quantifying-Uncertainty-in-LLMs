{
 "cells": [
  {
   "cell_type": "code",
   "execution_count": 1,
   "metadata": {},
   "outputs": [],
   "source": [
    "from datasets import load_dataset\n",
    "\n",
    "ds = load_dataset(\"truthfulqa/truthful_qa\", \"generation\")"
   ]
  },
  {
   "cell_type": "code",
   "execution_count": 7,
   "metadata": {},
   "outputs": [],
   "source": [
    "import csv\n",
    "\n",
    "def create_csv_from_dataset(dataset, num_of_examples, folder='datasets'):\n",
    "    # Ensure the number of examples does not exceed the dataset length\n",
    "    num_of_examples = min(num_of_examples, len(dataset['validation']))\n",
    "    \n",
    "    # Define the file name\n",
    "    file_name = f\"{folder}/truthful-qa-{num_of_examples}.csv\"\n",
    "    \n",
    "    # Extract the required columns\n",
    "    data = dataset['validation'].select(range(num_of_examples))\n",
    "    rows = zip(data['question'], data['correct_answers'], data['incorrect_answers'])\n",
    "    \n",
    "    # Write to CSV\n",
    "    with open(file_name, mode='w', newline='', encoding='utf-8') as file:\n",
    "        writer = csv.writer(file)\n",
    "        writer.writerow(['Question', 'Correct Answer', 'Incorrect Answer'])  # Write header\n",
    "        writer.writerows(rows)  # Write data\n",
    "\n",
    "# Example usage\n",
    "create_csv_from_dataset(ds, 500)"
   ]
  },
  {
   "cell_type": "code",
   "execution_count": 8,
   "metadata": {},
   "outputs": [],
   "source": [
    "import csv\n",
    "import random\n",
    "\n",
    "def create_csv_from_dataset(dataset, num_train_examples, num_test_examples, folder='datasets'):\n",
    "    # Ensure the number of examples does not exceed the dataset length\n",
    "    total_examples = num_train_examples + num_test_examples\n",
    "    total_examples = min(total_examples, len(dataset['validation']))\n",
    "    \n",
    "    # Shuffle the dataset indices\n",
    "    indices = list(range(len(dataset['validation'])))\n",
    "    random.shuffle(indices)\n",
    "    \n",
    "    # Split the indices into train and test sets\n",
    "    train_indices = indices[:num_train_examples]\n",
    "    test_indices = indices[num_train_examples:num_train_examples + num_test_examples]\n",
    "    \n",
    "    # Extract the required columns for train and test sets\n",
    "    train_data = dataset['validation'].select(train_indices)\n",
    "    test_data = dataset['validation'].select(test_indices)\n",
    "    \n",
    "    # Define the file names\n",
    "    train_file_name = f\"{folder}/truthful-qa-train-{num_train_examples}.csv\"\n",
    "    test_file_name = f\"{folder}/truthful-qa-test-{num_test_examples}.csv\"\n",
    "    \n",
    "    # Write train data to CSV\n",
    "    with open(train_file_name, mode='w', newline='', encoding='utf-8') as train_file:\n",
    "        writer = csv.writer(train_file)\n",
    "        writer.writerow(['Question', 'Correct Answer', 'Incorrect Answer'])  # Write header\n",
    "        writer.writerows(zip(train_data['question'], train_data['correct_answers'], train_data['incorrect_answers']))  # Write data\n",
    "    \n",
    "    # Write test data to CSV\n",
    "    with open(test_file_name, mode='w', newline='', encoding='utf-8') as test_file:\n",
    "        writer = csv.writer(test_file)\n",
    "        writer.writerow(['Question', 'Correct Answer', 'Incorrect Answer'])  # Write header\n",
    "        writer.writerows(zip(test_data['question'], test_data['correct_answers'], test_data['incorrect_answers']))  # Write data\n",
    "\n",
    "# Example usage\n",
    "create_csv_from_dataset(ds, 500, 100)"
   ]
  },
  {
   "cell_type": "code",
   "execution_count": 2,
   "metadata": {},
   "outputs": [
    {
     "name": "stdout",
     "output_type": "stream",
     "text": [
      "    softmax        sv    hybrid  is_correct\n",
      "0  0.043823  0.550940  0.153264           1\n",
      "1  0.305485  0.430584  0.332483           1\n",
      "2  0.237615  0.692421  0.335767           1\n",
      "3  0.768238  0.380489  0.684558           1\n",
      "4  0.863867  0.214405  0.723706           1\n"
     ]
    }
   ],
   "source": [
    "import pandas as pd\n",
    "\n",
    "# Load the CSV file into a DataFrame\n",
    "csv_file_path = '/opt/extra/avijit/projects/rlof/Ryan/zzzzzz/representation-engineering/examples/honesty/visuals/score_pairs.csv'\n",
    "score_pairs_df = pd.read_csv(csv_file_path)\n",
    "\n",
    "# Display the DataFrame\n",
    "print(score_pairs_df.head())\n",
    "\n",
    "import matplotlib.pyplot as plt\n",
    "\n",
    "# Calculate the average for all 3 columns for both is_correct 1 and 0\n",
    "average_scores = score_pairs_df.groupby('is_correct').mean()\n",
    "\n",
    "# Plot the averages\n",
    "average_scores.plot(kind='bar')\n",
    "plt.title('Average Scores for is_correct 1 and 0')\n",
    "plt.xlabel('is_correct')\n",
    "plt.ylabel('Average Score')\n",
    "plt.show()"
   ]
  },
  {
   "cell_type": "code",
   "execution_count": 7,
   "metadata": {},
   "outputs": [
    {
     "name": "stdout",
     "output_type": "stream",
     "text": [
      "Mean: 0.5437104920471773\n",
      "Standard Deviation: 0.2611292777180667\n",
      "Min: 0.0171657316651476\n",
      "Max: 0.9998951123832688\n"
     ]
    }
   ],
   "source": [
    "score_pairs_df.head(50)\n",
    "print(\"Mean:\", score_pairs_df['hybrid'].mean())\n",
    "print(\"Standard Deviation:\", score_pairs_df['hybrid'].std())\n",
    "print(\"Min:\", score_pairs_df['hybrid'].min())\n",
    "print(\"Max:\", score_pairs_df['hybrid'].max())"
   ]
  },
  {
   "cell_type": "code",
   "execution_count": 2,
   "metadata": {},
   "outputs": [
    {
     "name": "stdout",
     "output_type": "stream",
     "text": [
      "Mean (mu): 0.549685605272083\n",
      "Standard Deviation (std): 0.26435183013946717\n"
     ]
    }
   ],
   "source": [
    "from scipy.stats import norm\n",
    "import pandas as pd\n",
    "\n",
    "# Load the CSV file into a DataFrame\n",
    "csv_file_path = '/opt/extra/avijit/projects/rlof/Ryan/zzzzzz/representation-engineering/examples/honesty/visuals/score_pairs.csv'\n",
    "score_pairs_df = pd.read_csv(csv_file_path)\n",
    "\n",
    "# Fit a Gaussian distribution to the 'hybrid' column\n",
    "mu, std = norm.fit(score_pairs_df['hybrid'])\n",
    "\n",
    "print(\"Mean (mu):\", mu)\n",
    "print(\"Standard Deviation (std):\", std)"
   ]
  }
 ],
 "metadata": {
  "kernelspec": {
   "display_name": "rlof",
   "language": "python",
   "name": "python3"
  },
  "language_info": {
   "codemirror_mode": {
    "name": "ipython",
    "version": 3
   },
   "file_extension": ".py",
   "mimetype": "text/x-python",
   "name": "python",
   "nbconvert_exporter": "python",
   "pygments_lexer": "ipython3",
   "version": "3.11.9"
  }
 },
 "nbformat": 4,
 "nbformat_minor": 2
}
